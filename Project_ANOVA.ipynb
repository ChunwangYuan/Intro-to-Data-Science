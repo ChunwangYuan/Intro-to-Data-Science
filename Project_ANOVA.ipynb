{
 "cells": [
  {
   "cell_type": "markdown",
   "metadata": {
    "slideshow": {
     "slide_type": "-"
    }
   },
   "source": [
    "<h2 align=\"center\">Intro to Data Science</h2> \n",
    "<h3 align=\"center\">Project 1: ANOVA analysis</h3> \n",
    "\n",
    "<h3 align=\"center\">Chunwang Yuan, Rajendra Kumar Vechalapu, Saketh Yelamarthi<br>Fall 2021</h3> \n",
    "\n",
    "<center>\n"
   ]
  },
  {
   "cell_type": "markdown",
   "metadata": {},
   "source": [
    "### Outline\n",
    "1. Abstract\n",
    "2. Theory\n",
    "3. Exploratory Data analysis\n",
    "4. Analysis Results & Explanation\n",
    "5. Conclusion"
   ]
  },
  {
   "cell_type": "markdown",
   "metadata": {},
   "source": [
    "###  1 Abstract \n",
    "The main aim of this project is to perform One-Way ANOVA analysis on the given set of data(values in various levels of education) using python. We build a model that outputs the summary and gives anova table. We set hypothesis for the given data and calculate F-statistic. From F-statistic, p-value is calculated. If the p-value is less than significance level, we reject Null hypothesis which refers to that means of all groups are not equal and the observed difference in the means is not due to sampling variability. After performing hypothesis test, we perform multiple pairwise comparisons of different groups using t-test to determine which means are different. In conclusion, we determine whether the mean of various levels of education is same or which levels of education have different means."
   ]
  },
  {
   "cell_type": "markdown",
   "metadata": {},
   "source": [
    "### 2 Theory\n",
    "Analysis of Variance(ANOVA) is used to compare the means of two or more groups to check whether they are different or not. It is used when there are more than two groups present in the dataset. If there is one independent variable then one-way anova is used. If there are two independent variables then two-way anova is used. \n",
    "\n",
    "A one-way anova has a single factor with different treatments and many samples at each level. We can calculate the mean of the samples of each treatment. The residuals show the variation within each treatment. A total mean is obtained by taking the average of means of all treatments. Then we can check the deviation of the mean of each treatment from total mean. And therefore, we can check the variation within each treatment to the variation across the treatments. So it is called Analysis of Variance. \n",
    "\n",
    "In ANOVA, we use F-statistic, where it is defined by variability between groups(treatments) over variability within groups. Larger F-statistic produces smaller p-value. So, in order to reject Null Hypothesis, we need small p-value. For that to obtain, variability between group  means needs to be greater than the variability within group means.\n",
    "\n",
    "An ANOVA table consists of degees of freedom, sum of squares of group which measures the variability between groups, sum of squares of error(residual) which measure the variability within groups, the mean square error which is calculated as sum of squares divided by the degrees of freedom, F-score and p-value.\n",
    "\n",
    "Before performing ANOVA analysis, there are certain conditions that need to be met:\n",
    "\n",
    "1. The samples should be independent within and between groups.\n",
    "\n",
    "2. The samples within each group should be nearly normal. To check for normality, here we use    Shapiro-Wilk test.\n",
    "\n",
    "3. The variability across the groups should be approximately equal. To check for Homogeneity    for equal variances, here we use Bartlett's test and Levene's test.\n",
    "\n",
    "The given data set has information regarding means(values) of various levels of education. The hypothesis for the given dataset is as follows:\n",
    "\n",
    "1. Null Hypothesis: The average values of different levels of education    i.e., Less than High School, High School, Junior College, Bachelor's and Graduate are same.\n",
    "\n",
    "2. Alternate Hypothesis: The average number in various levels of education are different.\n",
    "\n",
    "After performing Hypothesis test, if the p-value is less than significance level, we reject Null Hypothesis and perform multiple pairwise comparisons using t-test and determine which pair of levels have different means. "
   ]
  },
  {
   "cell_type": "markdown",
   "metadata": {},
   "source": [
    "### 3 Exploratory Data analysis\n",
    "#### In this section, we  use the method of One-way Anova to explorate the data "
   ]
  },
  {
   "cell_type": "code",
   "execution_count": 2,
   "metadata": {},
   "outputs": [],
   "source": [
    "import pandas as pd \n",
    "import numpy as np\n",
    "import statsmodels.api as sm \n",
    "from statsmodels.formula.api import ols"
   ]
  },
  {
   "cell_type": "markdown",
   "metadata": {},
   "source": [
    "#### Firstly, we load the data as the dataframe type set. "
   ]
  },
  {
   "cell_type": "code",
   "execution_count": 4,
   "metadata": {},
   "outputs": [
    {
     "name": "stdout",
     "output_type": "stream",
     "text": [
      "treatments    object\n",
      "value         object\n",
      "dtype: object\n"
     ]
    },
    {
     "data": {
      "text/html": [
       "<div>\n",
       "<style scoped>\n",
       "    .dataframe tbody tr th:only-of-type {\n",
       "        vertical-align: middle;\n",
       "    }\n",
       "\n",
       "    .dataframe tbody tr th {\n",
       "        vertical-align: top;\n",
       "    }\n",
       "\n",
       "    .dataframe thead th {\n",
       "        text-align: right;\n",
       "    }\n",
       "</style>\n",
       "<table border=\"1\" class=\"dataframe\">\n",
       "  <thead>\n",
       "    <tr style=\"text-align: right;\">\n",
       "      <th></th>\n",
       "      <th>treatments</th>\n",
       "      <th>value</th>\n",
       "    </tr>\n",
       "  </thead>\n",
       "  <tbody>\n",
       "    <tr>\n",
       "      <th>0</th>\n",
       "      <td>Less than HS</td>\n",
       "      <td>45</td>\n",
       "    </tr>\n",
       "    <tr>\n",
       "      <th>1</th>\n",
       "      <td>Less than HS</td>\n",
       "      <td>26</td>\n",
       "    </tr>\n",
       "    <tr>\n",
       "      <th>2</th>\n",
       "      <td>Less than HS</td>\n",
       "      <td>43.8</td>\n",
       "    </tr>\n",
       "    <tr>\n",
       "      <th>3</th>\n",
       "      <td>Less than HS</td>\n",
       "      <td>34.4</td>\n",
       "    </tr>\n",
       "    <tr>\n",
       "      <th>4</th>\n",
       "      <td>Less than HS</td>\n",
       "      <td>76.2</td>\n",
       "    </tr>\n",
       "  </tbody>\n",
       "</table>\n",
       "</div>"
      ],
      "text/plain": [
       "     treatments value\n",
       "0  Less than HS    45\n",
       "1  Less than HS    26\n",
       "2  Less than HS  43.8\n",
       "3  Less than HS  34.4\n",
       "4  Less than HS  76.2"
      ]
     },
     "execution_count": 4,
     "metadata": {},
     "output_type": "execute_result"
    }
   ],
   "source": [
    "data = pd.read_csv('DSCI6002_prj1_data.csv', header = None)\n",
    "data_array = np.array(data)\n",
    "df = pd.DataFrame(data_array ,columns = ['treatments','value'])\n",
    "print(df.dtypes)\n",
    "df.head()"
   ]
  },
  {
   "cell_type": "markdown",
   "metadata": {},
   "source": [
    "#### Since the data type of the column of 'value' is object, we need to convert the value from object to numeric."
   ]
  },
  {
   "cell_type": "code",
   "execution_count": 4,
   "metadata": {},
   "outputs": [
    {
     "data": {
      "text/plain": [
       "treatments     object\n",
       "value         float64\n",
       "dtype: object"
      ]
     },
     "execution_count": 4,
     "metadata": {},
     "output_type": "execute_result"
    }
   ],
   "source": [
    "# convert the value column to numeric type\n",
    "df['value'] = pd.to_numeric(df['value'])\n",
    "df.dtypes"
   ]
  },
  {
   "cell_type": "code",
   "execution_count": 5,
   "metadata": {},
   "outputs": [
    {
     "data": {
      "text/html": [
       "<table class=\"simpletable\">\n",
       "<caption>OLS Regression Results</caption>\n",
       "<tr>\n",
       "  <th>Dep. Variable:</th>          <td>value</td>      <th>  R-squared:         </th> <td>   0.016</td>\n",
       "</tr>\n",
       "<tr>\n",
       "  <th>Model:</th>                   <td>OLS</td>       <th>  Adj. R-squared:    </th> <td>   0.012</td>\n",
       "</tr>\n",
       "<tr>\n",
       "  <th>Method:</th>             <td>Least Squares</td>  <th>  F-statistic:       </th> <td>   4.619</td>\n",
       "</tr>\n",
       "<tr>\n",
       "  <th>Date:</th>             <td>Thu, 18 Nov 2021</td> <th>  Prob (F-statistic):</th>  <td>0.00106</td>\n",
       "</tr>\n",
       "<tr>\n",
       "  <th>Time:</th>                 <td>15:53:06</td>     <th>  Log-Likelihood:    </th> <td> -4837.1</td>\n",
       "</tr>\n",
       "<tr>\n",
       "  <th>No. Observations:</th>      <td>  1172</td>      <th>  AIC:               </th> <td>   9684.</td>\n",
       "</tr>\n",
       "<tr>\n",
       "  <th>Df Residuals:</th>          <td>  1167</td>      <th>  BIC:               </th> <td>   9709.</td>\n",
       "</tr>\n",
       "<tr>\n",
       "  <th>Df Model:</th>              <td>     4</td>      <th>                     </th>     <td> </td>   \n",
       "</tr>\n",
       "<tr>\n",
       "  <th>Covariance Type:</th>      <td>nonrobust</td>    <th>                     </th>     <td> </td>   \n",
       "</tr>\n",
       "</table>\n",
       "<table class=\"simpletable\">\n",
       "<tr>\n",
       "                <td></td>                   <th>coef</th>     <th>std err</th>      <th>t</th>      <th>P>|t|</th>  <th>[0.025</th>    <th>0.975]</th>  \n",
       "</tr>\n",
       "<tr>\n",
       "  <th>Intercept</th>                     <td>   42.2032</td> <td>    0.945</td> <td>   44.648</td> <td> 0.000</td> <td>   40.349</td> <td>   44.058</td>\n",
       "</tr>\n",
       "<tr>\n",
       "  <th>C(treatments)[T.Graduate]</th>     <td>    1.4968</td> <td>    1.534</td> <td>    0.976</td> <td> 0.329</td> <td>   -1.512</td> <td>    4.506</td>\n",
       "</tr>\n",
       "<tr>\n",
       "  <th>C(treatments)[T.HS]</th>           <td>   -2.0975</td> <td>    1.143</td> <td>   -1.834</td> <td> 0.067</td> <td>   -4.341</td> <td>    0.146</td>\n",
       "</tr>\n",
       "<tr>\n",
       "  <th>C(treatments)[T.Jr Coll]</th>      <td>   -1.0063</td> <td>    1.796</td> <td>   -0.560</td> <td> 0.575</td> <td>   -4.529</td> <td>    2.517</td>\n",
       "</tr>\n",
       "<tr>\n",
       "  <th>C(treatments)[T.Less than HS]</th> <td>   -5.5668</td> <td>    1.662</td> <td>   -3.350</td> <td> 0.001</td> <td>   -8.827</td> <td>   -2.306</td>\n",
       "</tr>\n",
       "</table>\n",
       "<table class=\"simpletable\">\n",
       "<tr>\n",
       "  <th>Omnibus:</th>       <td> 0.432</td> <th>  Durbin-Watson:     </th> <td>   1.984</td>\n",
       "</tr>\n",
       "<tr>\n",
       "  <th>Prob(Omnibus):</th> <td> 0.806</td> <th>  Jarque-Bera (JB):  </th> <td>   0.513</td>\n",
       "</tr>\n",
       "<tr>\n",
       "  <th>Skew:</th>          <td> 0.028</td> <th>  Prob(JB):          </th> <td>   0.774</td>\n",
       "</tr>\n",
       "<tr>\n",
       "  <th>Kurtosis:</th>      <td> 2.914</td> <th>  Cond. No.          </th> <td>    6.26</td>\n",
       "</tr>\n",
       "</table><br/><br/>Notes:<br/>[1] Standard Errors assume that the covariance matrix of the errors is correctly specified."
      ],
      "text/plain": [
       "<class 'statsmodels.iolib.summary.Summary'>\n",
       "\"\"\"\n",
       "                            OLS Regression Results                            \n",
       "==============================================================================\n",
       "Dep. Variable:                  value   R-squared:                       0.016\n",
       "Model:                            OLS   Adj. R-squared:                  0.012\n",
       "Method:                 Least Squares   F-statistic:                     4.619\n",
       "Date:                Thu, 18 Nov 2021   Prob (F-statistic):            0.00106\n",
       "Time:                        15:53:06   Log-Likelihood:                -4837.1\n",
       "No. Observations:                1172   AIC:                             9684.\n",
       "Df Residuals:                    1167   BIC:                             9709.\n",
       "Df Model:                           4                                         \n",
       "Covariance Type:            nonrobust                                         \n",
       "=================================================================================================\n",
       "                                    coef    std err          t      P>|t|      [0.025      0.975]\n",
       "-------------------------------------------------------------------------------------------------\n",
       "Intercept                        42.2032      0.945     44.648      0.000      40.349      44.058\n",
       "C(treatments)[T.Graduate]         1.4968      1.534      0.976      0.329      -1.512       4.506\n",
       "C(treatments)[T.HS]              -2.0975      1.143     -1.834      0.067      -4.341       0.146\n",
       "C(treatments)[T.Jr Coll]         -1.0063      1.796     -0.560      0.575      -4.529       2.517\n",
       "C(treatments)[T.Less than HS]    -5.5668      1.662     -3.350      0.001      -8.827      -2.306\n",
       "==============================================================================\n",
       "Omnibus:                        0.432   Durbin-Watson:                   1.984\n",
       "Prob(Omnibus):                  0.806   Jarque-Bera (JB):                0.513\n",
       "Skew:                           0.028   Prob(JB):                        0.774\n",
       "Kurtosis:                       2.914   Cond. No.                         6.26\n",
       "==============================================================================\n",
       "\n",
       "Notes:\n",
       "[1] Standard Errors assume that the covariance matrix of the errors is correctly specified.\n",
       "\"\"\""
      ]
     },
     "execution_count": 5,
     "metadata": {},
     "output_type": "execute_result"
    }
   ],
   "source": [
    "model = ols('value~C(treatments)', data = df ).fit()\n",
    "model.summary()"
   ]
  },
  {
   "cell_type": "markdown",
   "metadata": {},
   "source": [
    "#### by implementing the method of One-way Anova to the model, we can get the parameters. "
   ]
  },
  {
   "cell_type": "code",
   "execution_count": 6,
   "metadata": {},
   "outputs": [
    {
     "data": {
      "text/html": [
       "<div>\n",
       "<style scoped>\n",
       "    .dataframe tbody tr th:only-of-type {\n",
       "        vertical-align: middle;\n",
       "    }\n",
       "\n",
       "    .dataframe tbody tr th {\n",
       "        vertical-align: top;\n",
       "    }\n",
       "\n",
       "    .dataframe thead th {\n",
       "        text-align: right;\n",
       "    }\n",
       "</style>\n",
       "<table border=\"1\" class=\"dataframe\">\n",
       "  <thead>\n",
       "    <tr style=\"text-align: right;\">\n",
       "      <th></th>\n",
       "      <th>sum_sq</th>\n",
       "      <th>df</th>\n",
       "      <th>F</th>\n",
       "      <th>PR(&gt;F)</th>\n",
       "    </tr>\n",
       "  </thead>\n",
       "  <tbody>\n",
       "    <tr>\n",
       "      <th>C(treatments)</th>\n",
       "      <td>4176.452688</td>\n",
       "      <td>4.0</td>\n",
       "      <td>4.618904</td>\n",
       "      <td>0.001056</td>\n",
       "    </tr>\n",
       "    <tr>\n",
       "      <th>Residual</th>\n",
       "      <td>263802.838942</td>\n",
       "      <td>1167.0</td>\n",
       "      <td>NaN</td>\n",
       "      <td>NaN</td>\n",
       "    </tr>\n",
       "  </tbody>\n",
       "</table>\n",
       "</div>"
      ],
      "text/plain": [
       "                      sum_sq      df         F    PR(>F)\n",
       "C(treatments)    4176.452688     4.0  4.618904  0.001056\n",
       "Residual       263802.838942  1167.0       NaN       NaN"
      ]
     },
     "execution_count": 6,
     "metadata": {},
     "output_type": "execute_result"
    }
   ],
   "source": [
    "### One-way ANOVA \n",
    "anova_table = sm.stats.anova_lm(model,typ = 2)\n",
    "anova_table"
   ]
  },
  {
   "cell_type": "code",
   "execution_count": 7,
   "metadata": {},
   "outputs": [
    {
     "data": {
      "text/html": [
       "<div>\n",
       "<style scoped>\n",
       "    .dataframe tbody tr th:only-of-type {\n",
       "        vertical-align: middle;\n",
       "    }\n",
       "\n",
       "    .dataframe tbody tr th {\n",
       "        vertical-align: top;\n",
       "    }\n",
       "\n",
       "    .dataframe thead th {\n",
       "        text-align: right;\n",
       "    }\n",
       "</style>\n",
       "<table border=\"1\" class=\"dataframe\">\n",
       "  <thead>\n",
       "    <tr style=\"text-align: right;\">\n",
       "      <th></th>\n",
       "      <th>sum_sq</th>\n",
       "      <th>df</th>\n",
       "      <th>F</th>\n",
       "      <th>PR(&gt;F)</th>\n",
       "      <th>EtaSq</th>\n",
       "    </tr>\n",
       "  </thead>\n",
       "  <tbody>\n",
       "    <tr>\n",
       "      <th>C(treatments)</th>\n",
       "      <td>4176.452688</td>\n",
       "      <td>4.0</td>\n",
       "      <td>4.618904</td>\n",
       "      <td>0.001056</td>\n",
       "      <td>0.015585</td>\n",
       "    </tr>\n",
       "    <tr>\n",
       "      <th>Residual</th>\n",
       "      <td>263802.838942</td>\n",
       "      <td>1167.0</td>\n",
       "      <td>NaN</td>\n",
       "      <td>NaN</td>\n",
       "      <td>NaN</td>\n",
       "    </tr>\n",
       "  </tbody>\n",
       "</table>\n",
       "</div>"
      ],
      "text/plain": [
       "                      sum_sq      df         F    PR(>F)     EtaSq\n",
       "C(treatments)    4176.452688     4.0  4.618904  0.001056  0.015585\n",
       "Residual       263802.838942  1167.0       NaN       NaN       NaN"
      ]
     },
     "execution_count": 7,
     "metadata": {},
     "output_type": "execute_result"
    }
   ],
   "source": [
    "esq_sm = anova_table['sum_sq'][0]/(anova_table['sum_sq'][0]+anova_table['sum_sq'][1])\n",
    "anova_table['EtaSq'] = [esq_sm,'NaN']\n",
    "anova_table"
   ]
  },
  {
   "cell_type": "markdown",
   "metadata": {},
   "source": [
    "#### By applying the method of Multiple Pairwise Comparisons and Turkey HSD test, the results show us that the difference between each group. "
   ]
  },
  {
   "cell_type": "code",
   "execution_count": 8,
   "metadata": {},
   "outputs": [
    {
     "data": {
      "text/html": [
       "<div>\n",
       "<style scoped>\n",
       "    .dataframe tbody tr th:only-of-type {\n",
       "        vertical-align: middle;\n",
       "    }\n",
       "\n",
       "    .dataframe tbody tr th {\n",
       "        vertical-align: top;\n",
       "    }\n",
       "\n",
       "    .dataframe thead th {\n",
       "        text-align: right;\n",
       "    }\n",
       "</style>\n",
       "<table border=\"1\" class=\"dataframe\">\n",
       "  <thead>\n",
       "    <tr style=\"text-align: right;\">\n",
       "      <th></th>\n",
       "      <th>coef</th>\n",
       "      <th>std err</th>\n",
       "      <th>t</th>\n",
       "      <th>P&gt;|t|</th>\n",
       "      <th>Conf. Int. Low</th>\n",
       "      <th>Conf. Int. Upp.</th>\n",
       "      <th>pvalue-hs</th>\n",
       "      <th>reject-hs</th>\n",
       "    </tr>\n",
       "  </thead>\n",
       "  <tbody>\n",
       "    <tr>\n",
       "      <th>Graduate-Bachelor's</th>\n",
       "      <td>1.496838</td>\n",
       "      <td>1.533586</td>\n",
       "      <td>0.976038</td>\n",
       "      <td>0.329248</td>\n",
       "      <td>-1.512057</td>\n",
       "      <td>4.505733</td>\n",
       "      <td>0.698223</td>\n",
       "      <td>False</td>\n",
       "    </tr>\n",
       "    <tr>\n",
       "      <th>HS-Bachelor's</th>\n",
       "      <td>-2.097484</td>\n",
       "      <td>1.143460</td>\n",
       "      <td>-1.834331</td>\n",
       "      <td>0.066859</td>\n",
       "      <td>-4.340952</td>\n",
       "      <td>0.145984</td>\n",
       "      <td>0.292485</td>\n",
       "      <td>False</td>\n",
       "    </tr>\n",
       "    <tr>\n",
       "      <th>Jr Coll-Bachelor's</th>\n",
       "      <td>-1.006255</td>\n",
       "      <td>1.795528</td>\n",
       "      <td>-0.560423</td>\n",
       "      <td>0.575299</td>\n",
       "      <td>-4.529079</td>\n",
       "      <td>2.516569</td>\n",
       "      <td>0.760113</td>\n",
       "      <td>False</td>\n",
       "    </tr>\n",
       "    <tr>\n",
       "      <th>Less than HS-Bachelor's</th>\n",
       "      <td>-5.566798</td>\n",
       "      <td>1.661832</td>\n",
       "      <td>-3.349796</td>\n",
       "      <td>0.000835</td>\n",
       "      <td>-8.827311</td>\n",
       "      <td>-2.306286</td>\n",
       "      <td>0.007486</td>\n",
       "      <td>True</td>\n",
       "    </tr>\n",
       "    <tr>\n",
       "      <th>HS-Graduate</th>\n",
       "      <td>-3.594322</td>\n",
       "      <td>1.368362</td>\n",
       "      <td>-2.626733</td>\n",
       "      <td>0.008734</td>\n",
       "      <td>-6.279048</td>\n",
       "      <td>-0.909597</td>\n",
       "      <td>0.067772</td>\n",
       "      <td>False</td>\n",
       "    </tr>\n",
       "    <tr>\n",
       "      <th>Jr Coll-Graduate</th>\n",
       "      <td>-2.503093</td>\n",
       "      <td>1.946493</td>\n",
       "      <td>-1.285950</td>\n",
       "      <td>0.198716</td>\n",
       "      <td>-6.322110</td>\n",
       "      <td>1.315924</td>\n",
       "      <td>0.587763</td>\n",
       "      <td>False</td>\n",
       "    </tr>\n",
       "    <tr>\n",
       "      <th>Less than HS-Graduate</th>\n",
       "      <td>-7.063636</td>\n",
       "      <td>1.823897</td>\n",
       "      <td>-3.872826</td>\n",
       "      <td>0.000114</td>\n",
       "      <td>-10.642120</td>\n",
       "      <td>-3.485153</td>\n",
       "      <td>0.001135</td>\n",
       "      <td>True</td>\n",
       "    </tr>\n",
       "    <tr>\n",
       "      <th>Jr Coll-HS</th>\n",
       "      <td>1.091230</td>\n",
       "      <td>1.656638</td>\n",
       "      <td>0.658701</td>\n",
       "      <td>0.510218</td>\n",
       "      <td>-2.159092</td>\n",
       "      <td>4.341551</td>\n",
       "      <td>0.760113</td>\n",
       "      <td>False</td>\n",
       "    </tr>\n",
       "    <tr>\n",
       "      <th>Less than HS-HS</th>\n",
       "      <td>-3.469314</td>\n",
       "      <td>1.510700</td>\n",
       "      <td>-2.296494</td>\n",
       "      <td>0.021824</td>\n",
       "      <td>-6.433306</td>\n",
       "      <td>-0.505322</td>\n",
       "      <td>0.143123</td>\n",
       "      <td>False</td>\n",
       "    </tr>\n",
       "    <tr>\n",
       "      <th>Less than HS-Jr Coll</th>\n",
       "      <td>-4.560544</td>\n",
       "      <td>2.049057</td>\n",
       "      <td>-2.225679</td>\n",
       "      <td>0.026226</td>\n",
       "      <td>-8.580791</td>\n",
       "      <td>-0.540296</td>\n",
       "      <td>0.147393</td>\n",
       "      <td>False</td>\n",
       "    </tr>\n",
       "  </tbody>\n",
       "</table>\n",
       "</div>"
      ],
      "text/plain": [
       "                             coef   std err         t     P>|t|  \\\n",
       "Graduate-Bachelor's      1.496838  1.533586  0.976038  0.329248   \n",
       "HS-Bachelor's           -2.097484  1.143460 -1.834331  0.066859   \n",
       "Jr Coll-Bachelor's      -1.006255  1.795528 -0.560423  0.575299   \n",
       "Less than HS-Bachelor's -5.566798  1.661832 -3.349796  0.000835   \n",
       "HS-Graduate             -3.594322  1.368362 -2.626733  0.008734   \n",
       "Jr Coll-Graduate        -2.503093  1.946493 -1.285950  0.198716   \n",
       "Less than HS-Graduate   -7.063636  1.823897 -3.872826  0.000114   \n",
       "Jr Coll-HS               1.091230  1.656638  0.658701  0.510218   \n",
       "Less than HS-HS         -3.469314  1.510700 -2.296494  0.021824   \n",
       "Less than HS-Jr Coll    -4.560544  2.049057 -2.225679  0.026226   \n",
       "\n",
       "                         Conf. Int. Low  Conf. Int. Upp.  pvalue-hs  reject-hs  \n",
       "Graduate-Bachelor's           -1.512057         4.505733   0.698223      False  \n",
       "HS-Bachelor's                 -4.340952         0.145984   0.292485      False  \n",
       "Jr Coll-Bachelor's            -4.529079         2.516569   0.760113      False  \n",
       "Less than HS-Bachelor's       -8.827311        -2.306286   0.007486       True  \n",
       "HS-Graduate                   -6.279048        -0.909597   0.067772      False  \n",
       "Jr Coll-Graduate              -6.322110         1.315924   0.587763      False  \n",
       "Less than HS-Graduate        -10.642120        -3.485153   0.001135       True  \n",
       "Jr Coll-HS                    -2.159092         4.341551   0.760113      False  \n",
       "Less than HS-HS               -6.433306        -0.505322   0.143123      False  \n",
       "Less than HS-Jr Coll          -8.580791        -0.540296   0.147393      False  "
      ]
     },
     "execution_count": 8,
     "metadata": {},
     "output_type": "execute_result"
    }
   ],
   "source": [
    "pair_t = model.t_test_pairwise('C(treatments)')\n",
    "pair_t.result_frame"
   ]
  },
  {
   "cell_type": "code",
   "execution_count": 9,
   "metadata": {},
   "outputs": [
    {
     "name": "stdout",
     "output_type": "stream",
     "text": [
      "      Multiple Comparison of Means - Tukey HSD, FWER=0.05      \n",
      "===============================================================\n",
      "  group1      group2    meandiff p-adj   lower    upper  reject\n",
      "---------------------------------------------------------------\n",
      "Bachelor's     Graduate   1.4968 0.8514   -2.693  5.6867  False\n",
      "Bachelor's           HS  -2.0975 0.3547  -5.2215  1.0265  False\n",
      "Bachelor's      Jr Coll  -1.0063    0.9  -5.9117  3.8992  False\n",
      "Bachelor's Less than HS  -5.5668 0.0074  -10.107 -1.0266   True\n",
      "  Graduate           HS  -3.5943 0.0664  -7.3327  0.1441  False\n",
      "  Graduate      Jr Coll  -2.5031 0.6756   -7.821  2.8148  False\n",
      "  Graduate Less than HS  -7.0636 0.0011 -12.0466 -2.0807   True\n",
      "        HS      Jr Coll   1.0912    0.9  -3.4348  5.6172  False\n",
      "        HS Less than HS  -3.4693 0.1466  -7.5966   0.658  False\n",
      "   Jr Coll Less than HS  -4.5605 0.1711 -10.1587  1.0376  False\n",
      "---------------------------------------------------------------\n"
     ]
    }
   ],
   "source": [
    "mc = sm.stats.multicomp.MultiComparison(df['value'], df['treatments'])\n",
    "mc_results = mc.tukeyhsd()\n",
    "print(mc_results)"
   ]
  },
  {
   "cell_type": "markdown",
   "metadata": {},
   "source": [
    "#### One-way ANOVA: Assumptions checks"
   ]
  },
  {
   "cell_type": "code",
   "execution_count": 10,
   "metadata": {},
   "outputs": [],
   "source": [
    "res = model.resid"
   ]
  },
  {
   "cell_type": "code",
   "execution_count": 11,
   "metadata": {},
   "outputs": [
    {
     "data": {
      "image/png": "[encoded data removed]",
      "text/plain": [
       "<Figure size 432x288 with 1 Axes>"
      ]
     },
     "metadata": {
      "needs_background": "light"
     },
     "output_type": "display_data"
    }
   ],
   "source": [
    "fig = sm.qqplot(res,line = 's') "
   ]
  },
  {
   "cell_type": "code",
   "execution_count": 12,
   "metadata": {},
   "outputs": [],
   "source": [
    "import seaborn as sns"
   ]
  },
  {
   "cell_type": "code",
   "execution_count": 13,
   "metadata": {},
   "outputs": [
    {
     "name": "stdout",
     "output_type": "stream",
     "text": [
      "0.33162370324134827\n"
     ]
    }
   ],
   "source": [
    "### Normality Assumption check\n",
    "from scipy import stats\n",
    "\n",
    "#using the Shapiro-wilk test\n",
    "w_shapiro, pvalue_shapiro = stats.shapiro(res)\n",
    "print(pvalue_shapiro)"
   ]
  },
  {
   "cell_type": "code",
   "execution_count": 15,
   "metadata": {
    "scrolled": true
   },
   "outputs": [
    {
     "name": "stderr",
     "output_type": "stream",
     "text": [
      "D:\\program\\Anaconda\\lib\\site-packages\\seaborn\\distributions.py:2551: FutureWarning: `distplot` is a deprecated function and will be removed in a future version. Please adapt your code to use either `displot` (a figure-level function with similar flexibility) or `histplot` (an axes-level function for histograms).\n",
      "  warnings.warn(msg, FutureWarning)\n"
     ]
    },
    {
     "data": {
      "text/plain": [
       "<AxesSubplot:ylabel='Density'>"
      ]
     },
     "execution_count": 15,
     "metadata": {},
     "output_type": "execute_result"
    },
    {
     "data": {
      "image/png": "[encoded data removed]",
      "text/plain": [
       "<Figure size 432x288 with 1 Axes>"
      ]
     },
     "metadata": {
      "needs_background": "light"
     },
     "output_type": "display_data"
    }
   ],
   "source": [
    "sns.distplot(res,bins = 'auto',hist = True)"
   ]
  },
  {
   "cell_type": "markdown",
   "metadata": {},
   "source": [
    "**Homogeneity for equal variances check**"
   ]
  },
  {
   "cell_type": "code",
   "execution_count": 25,
   "metadata": {},
   "outputs": [
    {
     "name": "stdout",
     "output_type": "stream",
     "text": [
      "Levene's test:\tw: 5.7617, pvalue: 0.0001\n"
     ]
    }
   ],
   "source": [
    "# Using Bartlett's test\n",
    "w_bartlett, pvalue_bartlett = stats.bartlett(df['value'][df['treatments'] == 'Less than HS']\n",
    " ,df['value'][df['treatments'] == 'HS']\n",
    " ,df['value'][df['treatments'] == 'Jr Coll']\n",
    " ,df['value'][df['treatments'] == \"Bachelor's\"]\n",
    " ,df['value'][df['treatments'] == \"Graduate\"])\n",
    "print(\"Bartlett's test:\\tw:{:7.4f}, pvalue:{:7.4f}\".format(w_bartlett, pvalue_bartlett))\n",
    "\n",
    "#Using Levene Variance test\n",
    "w_levene, pvalue_levene = stats.levene(df['value'][df['treatments'] == 'Less than HS']\n",
    " ,df['value'][df['treatments'] == 'HS']\n",
    " ,df['value'][df['treatments'] == 'Jr Coll']\n",
    " ,df['value'][df['treatments'] == \"Bachelor's\"]\n",
    " ,df['value'][df['treatments'] == \"Graduate\"])\n",
    "print(\"Levene's test:\\tw:{:7.4f}, pvalue:{:7.4f}\".format(w_levene, pvalue_levene))\n"
   ]
  },
  {
   "cell_type": "markdown",
   "metadata": {},
   "source": [
    "### 4 Analysis Results & Explanation"
   ]
  },
  {
   "cell_type": "markdown",
   "metadata": {},
   "source": [
    "**RESULTS**:"
   ]
  },
  {
   "cell_type": "code",
   "execution_count": 27,
   "metadata": {},
   "outputs": [
    {
     "data": {
      "text/html": [
       "<div>\n",
       "<style scoped>\n",
       "    .dataframe tbody tr th:only-of-type {\n",
       "        vertical-align: middle;\n",
       "    }\n",
       "\n",
       "    .dataframe tbody tr th {\n",
       "        vertical-align: top;\n",
       "    }\n",
       "\n",
       "    .dataframe thead th {\n",
       "        text-align: right;\n",
       "    }\n",
       "</style>\n",
       "<table border=\"1\" class=\"dataframe\">\n",
       "  <thead>\n",
       "    <tr style=\"text-align: right;\">\n",
       "      <th></th>\n",
       "      <th>sum_sq</th>\n",
       "      <th>df</th>\n",
       "      <th>F</th>\n",
       "      <th>PR(&gt;F)</th>\n",
       "      <th>EtaSq</th>\n",
       "    </tr>\n",
       "  </thead>\n",
       "  <tbody>\n",
       "    <tr>\n",
       "      <th>C(treatments)</th>\n",
       "      <td>4176.452688</td>\n",
       "      <td>4.0</td>\n",
       "      <td>4.618904</td>\n",
       "      <td>0.001056</td>\n",
       "      <td>0.015585</td>\n",
       "    </tr>\n",
       "    <tr>\n",
       "      <th>Residual</th>\n",
       "      <td>263802.838942</td>\n",
       "      <td>1167.0</td>\n",
       "      <td>NaN</td>\n",
       "      <td>NaN</td>\n",
       "      <td>NaN</td>\n",
       "    </tr>\n",
       "  </tbody>\n",
       "</table>\n",
       "</div>"
      ],
      "text/plain": [
       "                      sum_sq      df         F    PR(>F)     EtaSq\n",
       "C(treatments)    4176.452688     4.0  4.618904  0.001056  0.015585\n",
       "Residual       263802.838942  1167.0       NaN       NaN       NaN"
      ]
     },
     "execution_count": 27,
     "metadata": {},
     "output_type": "execute_result"
    }
   ],
   "source": [
    "anova_table"
   ]
  },
  {
   "cell_type": "markdown",
   "metadata": {},
   "source": [
    "Multiple Pairwise Comparisons and Turkey HSD test:"
   ]
  },
  {
   "cell_type": "code",
   "execution_count": 13,
   "metadata": {},
   "outputs": [
    {
     "name": "stdout",
     "output_type": "stream",
     "text": [
      "      Multiple Comparison of Means - Tukey HSD, FWER=0.05      \n",
      "===============================================================\n",
      "  group1      group2    meandiff p-adj   lower    upper  reject\n",
      "---------------------------------------------------------------\n",
      "Bachelor's     Graduate   1.4968 0.8514   -2.693  5.6867  False\n",
      "Bachelor's           HS  -2.0975 0.3547  -5.2215  1.0265  False\n",
      "Bachelor's      Jr Coll  -1.0063    0.9  -5.9117  3.8992  False\n",
      "Bachelor's Less than HS  -5.5668 0.0074  -10.107 -1.0266   True\n",
      "  Graduate           HS  -3.5943 0.0664  -7.3327  0.1441  False\n",
      "  Graduate      Jr Coll  -2.5031 0.6756   -7.821  2.8148  False\n",
      "  Graduate Less than HS  -7.0636 0.0011 -12.0466 -2.0807   True\n",
      "        HS      Jr Coll   1.0912    0.9  -3.4348  5.6172  False\n",
      "        HS Less than HS  -3.4693 0.1466  -7.5966   0.658  False\n",
      "   Jr Coll Less than HS  -4.5605 0.1711 -10.1587  1.0376  False\n",
      "---------------------------------------------------------------\n"
     ]
    },
    {
     "data": {
      "text/html": [
       "<div>\n",
       "<style scoped>\n",
       "    .dataframe tbody tr th:only-of-type {\n",
       "        vertical-align: middle;\n",
       "    }\n",
       "\n",
       "    .dataframe tbody tr th {\n",
       "        vertical-align: top;\n",
       "    }\n",
       "\n",
       "    .dataframe thead th {\n",
       "        text-align: right;\n",
       "    }\n",
       "</style>\n",
       "<table border=\"1\" class=\"dataframe\">\n",
       "  <thead>\n",
       "    <tr style=\"text-align: right;\">\n",
       "      <th></th>\n",
       "      <th>coef</th>\n",
       "      <th>std err</th>\n",
       "      <th>t</th>\n",
       "      <th>P&gt;|t|</th>\n",
       "      <th>Conf. Int. Low</th>\n",
       "      <th>Conf. Int. Upp.</th>\n",
       "      <th>pvalue-hs</th>\n",
       "      <th>reject-hs</th>\n",
       "    </tr>\n",
       "  </thead>\n",
       "  <tbody>\n",
       "    <tr>\n",
       "      <th>Graduate-Bachelor's</th>\n",
       "      <td>1.496838</td>\n",
       "      <td>1.533586</td>\n",
       "      <td>0.976038</td>\n",
       "      <td>0.329248</td>\n",
       "      <td>-1.512057</td>\n",
       "      <td>4.505733</td>\n",
       "      <td>0.698223</td>\n",
       "      <td>False</td>\n",
       "    </tr>\n",
       "    <tr>\n",
       "      <th>HS-Bachelor's</th>\n",
       "      <td>-2.097484</td>\n",
       "      <td>1.143460</td>\n",
       "      <td>-1.834331</td>\n",
       "      <td>0.066859</td>\n",
       "      <td>-4.340952</td>\n",
       "      <td>0.145984</td>\n",
       "      <td>0.292485</td>\n",
       "      <td>False</td>\n",
       "    </tr>\n",
       "    <tr>\n",
       "      <th>Jr Coll-Bachelor's</th>\n",
       "      <td>-1.006255</td>\n",
       "      <td>1.795528</td>\n",
       "      <td>-0.560423</td>\n",
       "      <td>0.575299</td>\n",
       "      <td>-4.529079</td>\n",
       "      <td>2.516569</td>\n",
       "      <td>0.760113</td>\n",
       "      <td>False</td>\n",
       "    </tr>\n",
       "    <tr>\n",
       "      <th>Less than HS-Bachelor's</th>\n",
       "      <td>-5.566798</td>\n",
       "      <td>1.661832</td>\n",
       "      <td>-3.349796</td>\n",
       "      <td>0.000835</td>\n",
       "      <td>-8.827311</td>\n",
       "      <td>-2.306286</td>\n",
       "      <td>0.007486</td>\n",
       "      <td>True</td>\n",
       "    </tr>\n",
       "    <tr>\n",
       "      <th>HS-Graduate</th>\n",
       "      <td>-3.594322</td>\n",
       "      <td>1.368362</td>\n",
       "      <td>-2.626733</td>\n",
       "      <td>0.008734</td>\n",
       "      <td>-6.279048</td>\n",
       "      <td>-0.909597</td>\n",
       "      <td>0.067772</td>\n",
       "      <td>False</td>\n",
       "    </tr>\n",
       "    <tr>\n",
       "      <th>Jr Coll-Graduate</th>\n",
       "      <td>-2.503093</td>\n",
       "      <td>1.946493</td>\n",
       "      <td>-1.285950</td>\n",
       "      <td>0.198716</td>\n",
       "      <td>-6.322110</td>\n",
       "      <td>1.315924</td>\n",
       "      <td>0.587763</td>\n",
       "      <td>False</td>\n",
       "    </tr>\n",
       "    <tr>\n",
       "      <th>Less than HS-Graduate</th>\n",
       "      <td>-7.063636</td>\n",
       "      <td>1.823897</td>\n",
       "      <td>-3.872826</td>\n",
       "      <td>0.000114</td>\n",
       "      <td>-10.642120</td>\n",
       "      <td>-3.485153</td>\n",
       "      <td>0.001135</td>\n",
       "      <td>True</td>\n",
       "    </tr>\n",
       "    <tr>\n",
       "      <th>Jr Coll-HS</th>\n",
       "      <td>1.091230</td>\n",
       "      <td>1.656638</td>\n",
       "      <td>0.658701</td>\n",
       "      <td>0.510218</td>\n",
       "      <td>-2.159092</td>\n",
       "      <td>4.341551</td>\n",
       "      <td>0.760113</td>\n",
       "      <td>False</td>\n",
       "    </tr>\n",
       "    <tr>\n",
       "      <th>Less than HS-HS</th>\n",
       "      <td>-3.469314</td>\n",
       "      <td>1.510700</td>\n",
       "      <td>-2.296494</td>\n",
       "      <td>0.021824</td>\n",
       "      <td>-6.433306</td>\n",
       "      <td>-0.505322</td>\n",
       "      <td>0.143123</td>\n",
       "      <td>False</td>\n",
       "    </tr>\n",
       "    <tr>\n",
       "      <th>Less than HS-Jr Coll</th>\n",
       "      <td>-4.560544</td>\n",
       "      <td>2.049057</td>\n",
       "      <td>-2.225679</td>\n",
       "      <td>0.026226</td>\n",
       "      <td>-8.580791</td>\n",
       "      <td>-0.540296</td>\n",
       "      <td>0.147393</td>\n",
       "      <td>False</td>\n",
       "    </tr>\n",
       "  </tbody>\n",
       "</table>\n",
       "</div>"
      ],
      "text/plain": [
       "                             coef   std err         t     P>|t|  \\\n",
       "Graduate-Bachelor's      1.496838  1.533586  0.976038  0.329248   \n",
       "HS-Bachelor's           -2.097484  1.143460 -1.834331  0.066859   \n",
       "Jr Coll-Bachelor's      -1.006255  1.795528 -0.560423  0.575299   \n",
       "Less than HS-Bachelor's -5.566798  1.661832 -3.349796  0.000835   \n",
       "HS-Graduate             -3.594322  1.368362 -2.626733  0.008734   \n",
       "Jr Coll-Graduate        -2.503093  1.946493 -1.285950  0.198716   \n",
       "Less than HS-Graduate   -7.063636  1.823897 -3.872826  0.000114   \n",
       "Jr Coll-HS               1.091230  1.656638  0.658701  0.510218   \n",
       "Less than HS-HS         -3.469314  1.510700 -2.296494  0.021824   \n",
       "Less than HS-Jr Coll    -4.560544  2.049057 -2.225679  0.026226   \n",
       "\n",
       "                         Conf. Int. Low  Conf. Int. Upp.  pvalue-hs  reject-hs  \n",
       "Graduate-Bachelor's           -1.512057         4.505733   0.698223      False  \n",
       "HS-Bachelor's                 -4.340952         0.145984   0.292485      False  \n",
       "Jr Coll-Bachelor's            -4.529079         2.516569   0.760113      False  \n",
       "Less than HS-Bachelor's       -8.827311        -2.306286   0.007486       True  \n",
       "HS-Graduate                   -6.279048        -0.909597   0.067772      False  \n",
       "Jr Coll-Graduate              -6.322110         1.315924   0.587763      False  \n",
       "Less than HS-Graduate        -10.642120        -3.485153   0.001135       True  \n",
       "Jr Coll-HS                    -2.159092         4.341551   0.760113      False  \n",
       "Less than HS-HS               -6.433306        -0.505322   0.143123      False  \n",
       "Less than HS-Jr Coll          -8.580791        -0.540296   0.147393      False  "
      ]
     },
     "execution_count": 13,
     "metadata": {},
     "output_type": "execute_result"
    }
   ],
   "source": [
    "print(mc_results)\n",
    "pair_t.result_frame"
   ]
  },
  {
   "cell_type": "markdown",
   "metadata": {},
   "source": [
    "Normality check using Shapiro-Wilk test:"
   ]
  },
  {
   "cell_type": "code",
   "execution_count": 30,
   "metadata": {},
   "outputs": [
    {
     "name": "stdout",
     "output_type": "stream",
     "text": [
      "Shapiro-wilk's test:\tw: 0.9984, pvalue: 0.3316\n",
      "Bartlett's test:\tw:17.7424, pvalue: 0.0014\n",
      "Levene's test:\tw: 5.7617, pvalue: 0.0001\n"
     ]
    }
   ],
   "source": [
    "print(\"Shapiro-wilk's test:\\tw:{:7.4f}, pvalue:{:7.4f}\".format(w_shapiro, pvalue_shapiro))\n",
    "print(\"Bartlett's test:\\tw:{:7.4f}, pvalue:{:7.4f}\".format(w_bartlett, pvalue_bartlett))\n",
    "print(\"Levene's test:\\tw:{:7.4f}, pvalue:{:7.4f}\".format(w_levene, pvalue_levene))"
   ]
  },
  {
   "cell_type": "markdown",
   "metadata": {},
   "source": [
    "**ANALYSIS & EXPLANATION:**\n",
    "1. From Anova table, we find F has a score of 4.618904 and p-value is 0.001056. \n",
    "Since p-value is less than significance value(0.05), we reject Null Hypothesis and conclude that the mean values of various levels of education are not same.\n",
    "\n",
    "2. Since we know that all means are not same, we need to determine which means are different. For that, t-test and Tukey HSD are used.\n",
    "\n",
    "3. Using t-test, we performed multiple pairwise comparisons and found that for groups Less than HS -- Bachelor's and Less than HS -- Graduate have different means. We got True values in the reject column. The p-values of these two groups are 0.007486 and 0.001135 respectively. Since these p-values are less than significance level(0.05), we conclude that the means for these two groups are different.\n",
    "\n",
    "4. Using Tukey HSD test, we also got the same results as t-test. We got True values in the reject column. For groups, Less than HS -- Bachelor's and Less than HS -- Graduate, the p-values (0.0074 and 0.0011) are less than significance level, so we reject null hypothesis and conclude that the means of these two groups are different. \n",
    "\n",
    "5. Normality check: In the qq plot, we see the sample observations from the data set closely follow the theoretical quantities, therefore concluding that the given data is normal. Also the plot from the histogram, we find that the data is normally distributed. The p-value(0.33162370324134827) from the Shapiro-Wilk test is greater than significance level(0.05). Therefore, the given data is normally distributed.\n",
    "\n",
    "6. Homogeneity for equal variances test: From Bartlett's test and Levene's test, we got p-values of 0.0014 and 0.0001 respectively. We find that these p-vaues are less than significance level(0.05). Therefore, we reject null hypothesis concluding that variances of different groups are not equal. Here, Homogeneity for equal variances gtest is failed."
   ]
  },
  {
   "cell_type": "markdown",
   "metadata": {},
   "source": [
    "### 5 Conclusion"
   ]
  },
  {
   "cell_type": "markdown",
   "metadata": {},
   "source": [
    "#### According to the results of one-way ANOVA and Multiple Pairwise Comparisons and Turkey HSD test, we can see the group of 'Less than HS' has a significent difference with the two groups of \"Bachelor's\" and 'Graduate'. \n",
    "#### Also, the data is a normal distribution. "
   ]
  }
 ],
 "metadata": {
  "kernelspec": {
   "display_name": "Python 3",
   "language": "python",
   "name": "python3"
  },
  "language_info": {
   "codemirror_mode": {
    "name": "ipython",
    "version": 3
   },
   "file_extension": ".py",
   "mimetype": "text/x-python",
   "name": "python",
   "nbconvert_exporter": "python",
   "pygments_lexer": "ipython3",
   "version": "3.8.5"
  }
 },
 "nbformat": 4,
 "nbformat_minor": 4
}
